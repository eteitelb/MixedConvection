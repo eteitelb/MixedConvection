{
  "nbformat": 4,
  "nbformat_minor": 0,
  "metadata": {
    "colab": {
      "name": "Copy of MRT with Mixed Convection Calculator Updated Source Code.ipynb",
      "provenance": []
    },
    "kernelspec": {
      "name": "python3",
      "display_name": "Python 3"
    },
    "language_info": {
      "name": "python"
    }
  },
  "cells": [
    {
      "cell_type": "code",
      "execution_count": null,
      "metadata": {
        "id": "8aiweDnFLBFS"
      },
      "outputs": [],
      "source": [
        "#By Eric Teitelbaum on 02/09/2022. Accompanying publication https://www.nature.com/articles/s41598-022-10172-5.\n",
        "\n",
        "import pandas as pd\n",
        "import numpy as np\n",
        "import matplotlib.pyplot as plt\n",
        "import matplotlib as mpl\n",
        "%matplotlib inline\n",
        "import datetime\n",
        "import seaborn #Seaborn is a a stats plotting library that sits on matplotlib\n",
        "mpl.rcParams['font.family'] = 'Serif'\n",
        "textsize = 16"
      ]
    },
    {
      "cell_type": "code",
      "source": [
        "#initialize constants\n",
        "\n",
        "#Prandtl constants\n",
        "cp = 1005 # J/kg/K\n",
        "k_air = 0.02662 # W/m-K\n",
        "mu = 0.0000181 # Pa s\n",
        "\n",
        "#Raleigh constants\n",
        "g = 9.81 # m/s2\n",
        "beta = 0.0034 # 1/K\n",
        "nu = 0.0000148 # m2/s\n",
        "alpha = 0.00002591 # m2/s\n",
        "\n",
        "\n",
        "#Globe diameter [m]\n",
        "x = 0.100\n",
        "## This model has only been validated from x = 0.040m (ping pong ball) to\n",
        "## x = 0.150m (standard globe thermometer) globes\n",
        "\n",
        "Pr = cp*mu/k_air\n",
        "\n",
        "o = 0.0000000567\n",
        "emiss = 0.95\n",
        "\n",
        "n = 1.27*x+0.57\n",
        "\n",
        "\n",
        "def MRT_calc(Tg, Ta, va):\n",
        "  Ra = g*beta*np.absolute(Tg-Ta)*x*x*x/nu/alpha\n",
        "  Re = va*x/nu\n",
        "\n",
        "  NuNatural = 2+(0.589*np.power(Ra ,(1/4)))/(np.power(1+np.power(0.469/Pr,9/16),(4/9)))\n",
        "  NuForced = 2+(0.4*np.power(Re ,0.5)+0.06*np.power(Re ,2/3))*np.power(Pr,0.4)\n",
        "\n",
        "\n",
        "\n",
        "  MixedCorrection = np.power(np.power(Tg+273.15,4)-((((np.power((np.power(NuForced,n)+np.power(NuNatural ,n)),1/n))*k_air/x)*(-Tg+Ta))/emiss/o),0.25)-273.15\n",
        "  StandardCorrection  = np.power(np.power(Tg+273.15,4)-(((1.1*100000000*np.power(va,0.6)*(-Tg+Ta))/emiss/np.power(x,0.4))),0.25)-273.15\n",
        "  print(\"MRT calculated with Mixed Convection = \"+str(round(MixedCorrection,1))+\" oC\")\n",
        "  print(\"MRT calculated with only Forced Convection (ASHRAE) = \"+str(round(StandardCorrection,1))+\" oC\")\n",
        "  print(\"The two methods differ by \"+str(round(np.abs(MixedCorrection-StandardCorrection),1))+\" K\")\n",
        "  return(MixedCorrection, StandardCorrection)"
      ],
      "metadata": {
        "id": "Wit7mV6yPjBv"
      },
      "execution_count": null,
      "outputs": []
    },
    {
      "cell_type": "code",
      "source": [
        "#Globe temperature [C]\n",
        "T_globe = 25.42\n",
        "\n",
        "#Air temperature [C]\n",
        "T_air = 26.10\n",
        "\n",
        "#Air speed [m/s]\n",
        "v_air = 0.1931\n",
        "\n",
        "MRT_calc(T_globe, T_air, v_air)"
      ],
      "metadata": {
        "colab": {
          "base_uri": "https://localhost:8080/"
        },
        "id": "Dq4LAO1ILvKR",
        "outputId": "b9ce286f-bcd4-48a5-e869-6acf49ce64ba"
      },
      "execution_count": null,
      "outputs": [
        {
          "output_type": "stream",
          "name": "stdout",
          "text": [
            "MRT calculated with Mixed Convection = 24.2 oC\n",
            "MRT calculated with only Forced Convection (ASHRAE) = 24.7 oC\n",
            "The two methods differ by 0.5 K\n"
          ]
        },
        {
          "output_type": "execute_result",
          "data": {
            "text/plain": [
              "(24.178599237791957, 24.725030910572684)"
            ]
          },
          "metadata": {},
          "execution_count": 12
        }
      ]
    },
    {
      "cell_type": "code",
      "source": [
        ""
      ],
      "metadata": {
        "id": "vsNwmYdyBt1B"
      },
      "execution_count": null,
      "outputs": []
    }
  ]
}
